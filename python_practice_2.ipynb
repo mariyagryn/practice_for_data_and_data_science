{
 "cells": [
  {
   "cell_type": "markdown",
   "metadata": {
    "id": "p9wwt0LZzNvn"
   },
   "source": [
    "# I. Змінні та памʼять."
   ]
  },
  {
   "cell_type": "markdown",
   "metadata": {
    "id": "HTJrrm95xSV9"
   },
   "source": [
    "1. Створити змінні, що посилаються на два цілих числа, що однакові за значенням, де значення належить проміжку від -5 до 256. Перевірте, чи будуть ці змінні рівні тільки за значенням або ж ще будуть посилатися на один і той самий обʼєкт в памʼяті? Наведіть код та дайте текстову відповідь нижче."
   ]
  },
  {
   "cell_type": "code",
   "execution_count": 1,
   "metadata": {
    "id": "TATni2vzayjG"
   },
   "outputs": [
    {
     "name": "stdout",
     "output_type": "stream",
     "text": [
      "True\n",
      "True\n"
     ]
    }
   ],
   "source": [
    "a = 100\n",
    "b = 100\n",
    "\n",
    "print(a == b)  \n",
    "print(a is b)\n"
   ]
  },
  {
   "cell_type": "markdown",
   "metadata": {
    "id": "zfRG_o3WbRdg"
   },
   "source": [
    "*місце для текстової відповіді\n",
    "\n",
    "Ці змінні рівні як за значенням, так і за тим, на один і той самий об'єкт в пам'яті вони вказують. Це відбувається тому, що числа в межах від -5 до 256 в Python зберігаються в пам'яті лише один раз, і обидві змінні посилаються на цей самий об'єкт."
   ]
  },
  {
   "cell_type": "markdown",
   "metadata": {
    "id": "ISORzt6M3vAt"
   },
   "source": [
    "2. За допомогою якої функції можна перевірити належність змінної до вказаного типу даних (напр. чи змінна True посилається на значення булевого та цілочисленого типу)?"
   ]
  },
  {
   "cell_type": "code",
   "execution_count": 2,
   "metadata": {
    "id": "9vL9CFaMbfyo"
   },
   "outputs": [
    {
     "name": "stdout",
     "output_type": "stream",
     "text": [
      "True\n",
      "True\n"
     ]
    }
   ],
   "source": [
    "# за допомогою функції isinstance\n",
    "x = True\n",
    "\n",
    "print(isinstance(x, bool)) \n",
    "print(isinstance(x, int)) \n"
   ]
  },
  {
   "cell_type": "markdown",
   "metadata": {
    "id": "tRxugKAxwYLw"
   },
   "source": [
    "# II. Цілі числа та числа з рухомою комою"
   ]
  },
  {
   "cell_type": "markdown",
   "metadata": {
    "id": "NLHkgd5Gybc8"
   },
   "source": [
    "3. Створити дві змінні, що посилаються на будь-які ціле число та число з рухомою комою та продемонструвати такі арифметичні операції: додавання, віднімання, ділення, множення, ділення без залишку, ділення по модулю, приведення до ступеню. Всі результати операцій вивести на екран."
   ]
  },
  {
   "cell_type": "code",
   "execution_count": 3,
   "metadata": {
    "id": "nb8u_3pjb2cA"
   },
   "outputs": [
    {
     "name": "stdout",
     "output_type": "stream",
     "text": [
      "Addition: 29.5\n",
      "Subtraction: 20.5\n",
      "Multiplication: 112.5\n",
      "Division: 5.555555555555555\n",
      "Floor division (integer division): 5.0\n",
      "Mod division (remainder): 2.5\n",
      "Exponentiation: 1953125.0\n"
     ]
    }
   ],
   "source": [
    "# Creating variables\n",
    "a = 25   # int\n",
    "b = 4.5  # float\n",
    "\n",
    "# Addition\n",
    "sum_result = a + b\n",
    "print(\"Addition:\", sum_result)\n",
    "\n",
    "# Subtraction\n",
    "sub_result = a - b\n",
    "print(\"Subtraction:\", sub_result)\n",
    "\n",
    "# Multiplication\n",
    "mul_result = a * b\n",
    "print(\"Multiplication:\", mul_result)\n",
    "\n",
    "# Division\n",
    "div_result = a / b\n",
    "print(\"Division:\", div_result)\n",
    "\n",
    "# Floor division\n",
    "floordiv_result = a // b\n",
    "print(\"Floor division (integer division):\", floordiv_result)\n",
    "\n",
    "# Mod division \n",
    "mod_result = a % b\n",
    "print(\"Mod division (remainder):\", mod_result)\n",
    "\n",
    "# Exponentiation (raising to a power)\n",
    "pow_result = a ** b\n",
    "print(\"Exponentiation:\", pow_result)\n"
   ]
  },
  {
   "cell_type": "markdown",
   "metadata": {
    "id": "1kBClKgPzZnC"
   },
   "source": [
    "4. Використовуючи змінні з вправи 3, продемонструйте механізм явного перетворення типів, де числа з рухомою комою перетворюються на цілі числа. Також визначте змінну, що посилається на значення булевого типу і спробуйте явно привести її до цілого числа."
   ]
  },
  {
   "cell_type": "code",
   "execution_count": 4,
   "metadata": {
    "id": "TbqJbkeUcKsD"
   },
   "outputs": [
    {
     "name": "stdout",
     "output_type": "stream",
     "text": [
      "Converted float to integer: 4\n",
      "Converted result of division (float) to integer: 5\n",
      "Converted boolean to integer: 1\n",
      "Converted boolean (False) to integer: 0\n"
     ]
    }
   ],
   "source": [
    "a = 25   \n",
    "b = 4.5 \n",
    "\n",
    "# converting float to integer\n",
    "int_b = int(b)\n",
    "print(\"Converted float to integer:\", int_b)\n",
    "\n",
    "int_div_result = int(a / b)\n",
    "print(\"Converted result of division (float) to integer:\", int_div_result)\n",
    "\n",
    "# defining a boolean variable\n",
    "is_true = True\n",
    "\n",
    "# converting boolean to integer\n",
    "int_bool = int(is_true)\n",
    "print(\"Converted boolean to integer:\", int_bool)\n",
    "\n",
    "# defining a boolean variable with False value\n",
    "is_false = False\n",
    "\n",
    "# converting boolean to integer\n",
    "int_bool_false = int(is_false)\n",
    "print(\"Converted boolean (False) to integer:\", int_bool_false)\n"
   ]
  },
  {
   "cell_type": "markdown",
   "metadata": {
    "id": "EVJ7AflwxrZi"
   },
   "source": [
    "# IІІ. Рядки (String)."
   ]
  },
  {
   "cell_type": "markdown",
   "metadata": {
    "id": "_s5ECzz9zE61"
   },
   "source": [
    "5. Створити пустий рядок двома різними способами."
   ]
  },
  {
   "cell_type": "code",
   "execution_count": 6,
   "metadata": {
    "id": "fkZJHu9Scvc-"
   },
   "outputs": [
    {
     "name": "stdout",
     "output_type": "stream",
     "text": [
      "\n",
      "\n"
     ]
    }
   ],
   "source": [
    "empty_string_1 = \"\"\n",
    "print(empty_string_1) \n",
    "\n",
    "empty_string_2 = str()\n",
    "print(empty_string_2) \n"
   ]
  },
  {
   "cell_type": "markdown",
   "metadata": {
    "id": "4Bdn9J3MzLf_"
   },
   "source": [
    "6. Створити рядок з апострофом. Зробити його сирим. Вивести обидва рядка на екран."
   ]
  },
  {
   "cell_type": "code",
   "execution_count": 7,
   "metadata": {
    "id": "ivji_hsmc0GH"
   },
   "outputs": [
    {
     "name": "stdout",
     "output_type": "stream",
     "text": [
      "Normal string: It's a test string\n",
      "Raw string: It's a test string\n"
     ]
    }
   ],
   "source": [
    "\n",
    "string_with_apostrophe = \"It's a test string\"\n",
    "print(\"Normal string:\", string_with_apostrophe)\n",
    "\n",
    "\n",
    "raw_string_with_apostrophe = r\"It's a test string\"\n",
    "print(\"Raw string:\", raw_string_with_apostrophe)\n"
   ]
  },
  {
   "cell_type": "markdown",
   "metadata": {
    "id": "bg_d8wM4z8dS"
   },
   "source": [
    "7. Створити змінну, що буде посилатися на Ваше прізвище латинкою. Створити форматований рядок, який буде мати вигляд \"My surname is ______\", де на місці нижніх підкреслень буде Ваше прізвище зі змінної."
   ]
  },
  {
   "cell_type": "code",
   "execution_count": 8,
   "metadata": {
    "id": "kuxFgpWndACq"
   },
   "outputs": [
    {
     "name": "stdout",
     "output_type": "stream",
     "text": [
      "My surname is Hryn\n"
     ]
    }
   ],
   "source": [
    "\n",
    "surname = \"Hryn\"  \n",
    "formatted_string = f\"My surname is {surname}\"\n",
    "print(formatted_string)\n"
   ]
  },
  {
   "cell_type": "markdown",
   "metadata": {
    "id": "1Nc6RqvQ0hxU"
   },
   "source": [
    "8. Маючи рядок \"My dog is crazy.\" перетворити його на список [\"my\", \"dog\", \"is\", \"crazy\"]"
   ]
  },
  {
   "cell_type": "code",
   "execution_count": 12,
   "metadata": {
    "id": "w1Ya4RqedUhw"
   },
   "outputs": [
    {
     "name": "stdout",
     "output_type": "stream",
     "text": [
      "['my', 'dog', 'is', 'crazy']\n"
     ]
    }
   ],
   "source": [
    "sentence = \"My dog is crazy.\"\n",
    "word_list = sentence.lower().strip(\".\").split()\n",
    "print(word_list)\n"
   ]
  },
  {
   "cell_type": "markdown",
   "metadata": {
    "id": "GYVqN9uP1D4n"
   },
   "source": [
    "# IV. Робота зі списками."
   ]
  },
  {
   "cell_type": "markdown",
   "metadata": {
    "id": "7-DeDunw2sO-"
   },
   "source": [
    "9. Створити список двома різними за синтаксисом способами. За допомогою вбудованої функції обчисліть довжину одного з них."
   ]
  },
  {
   "cell_type": "code",
   "execution_count": 15,
   "metadata": {
    "id": "zxg06Uuxdyoh"
   },
   "outputs": [
    {
     "name": "stdout",
     "output_type": "stream",
     "text": [
      "Length of list1: 5\n",
      "Length of list2: 7\n"
     ]
    }
   ],
   "source": [
    "list1 = [1, 2, 3, 4, 5]\n",
    "list2 = list((1, 2, 3, 4, 5, 6, 7))\n",
    "\n",
    "length = len(list1)\n",
    "print(\"Length of list1:\", length)\n",
    "\n",
    "length = len(list2)\n",
    "print(\"Length of list2:\", length)\n"
   ]
  },
  {
   "cell_type": "markdown",
   "metadata": {
    "id": "8vmGUTjL22gI"
   },
   "source": [
    "10. Створіть два списка та за допомогою спеціального методу додайте другий з них в якості останнього елемента першого."
   ]
  },
  {
   "cell_type": "code",
   "execution_count": 16,
   "metadata": {
    "id": "uHtjWYw7d7hm"
   },
   "outputs": [
    {
     "name": "stdout",
     "output_type": "stream",
     "text": [
      "Updated list1: [1, 2, 3, [4, 5, 6]]\n"
     ]
    }
   ],
   "source": [
    "list1 = [1, 2, 3]\n",
    "list2 = [4, 5, 6]\n",
    "\n",
    "list1.append(list2)\n",
    "print(\"Updated list1:\", list1)\n"
   ]
  },
  {
   "cell_type": "markdown",
   "metadata": {
    "id": "JC3BkD-67_--"
   },
   "source": [
    "11. Створіть список, де елементами цього списку також є списки. Отримай перший елемент з останнього рядка та виведи значення на екран."
   ]
  },
  {
   "cell_type": "code",
   "execution_count": 18,
   "metadata": {
    "id": "Kz2jZHsGeLlz"
   },
   "outputs": [
    {
     "name": "stdout",
     "output_type": "stream",
     "text": [
      "First element from the last list:  7\n"
     ]
    }
   ],
   "source": [
    "\n",
    "list_of_lists = [[1, 2, 3], [4, 5, 6], [7, 8, 9]]\n",
    "first_element_last_list = list_of_lists[-1][0]\n",
    "\n",
    "print(\"First element from the last list: \", first_element_last_list)\n"
   ]
  },
  {
   "cell_type": "markdown",
   "metadata": {
    "id": "JA47PKTv8zFK"
   },
   "source": [
    "12. Створіть список з десяти елементів різного типу. Отримайте всі елементи, окрім двох перших та двох останніх та збережіть їх в новій змінній."
   ]
  },
  {
   "cell_type": "code",
   "execution_count": 19,
   "metadata": {
    "id": "_rHdUR-ueP4-"
   },
   "outputs": [
    {
     "name": "stdout",
     "output_type": "stream",
     "text": [
      "New list: [3.14, True, [1, 2], {'key': 'value'}, None, 42]\n"
     ]
    }
   ],
   "source": [
    "list = [1, \"hello\", 3.14, True, [1, 2], {\"key\": \"value\"}, None, 42, (1, 2), 3.5]\n",
    "\n",
    "new_list = list[2:-2]\n",
    "print(\"New list:\", new_list)\n"
   ]
  },
  {
   "cell_type": "markdown",
   "metadata": {
    "id": "pCjR1dJb1Qbi"
   },
   "source": [
    "# V. Робота з кортежами."
   ]
  },
  {
   "cell_type": "markdown",
   "metadata": {
    "id": "fAZCxAX06R_k"
   },
   "source": [
    "14. Створити кортеж з один елементом."
   ]
  },
  {
   "cell_type": "code",
   "execution_count": 20,
   "metadata": {
    "id": "H7d82WkQev3e"
   },
   "outputs": [
    {
     "name": "stdout",
     "output_type": "stream",
     "text": [
      "(42,)\n"
     ]
    }
   ],
   "source": [
    "tuple = (42,)\n",
    "print(tuple)\n"
   ]
  },
  {
   "cell_type": "markdown",
   "metadata": {
    "id": "8LCtYcmI6w1M"
   },
   "source": [
    "15. Порівняйте список та кортеж. Назвіть схожості та відмінності, випадки використання."
   ]
  },
  {
   "cell_type": "markdown",
   "metadata": {
    "id": "fUsN1Hnue0C6"
   },
   "source": [
    "Списки підходять тоді, коли треба часто змінювати вміст(наприклад, робота з даними користувача, сортування, додавання елементів). Кортежі - це незмінні структури даних(наприклад, використовувати їх для розкладу, координатів, словників). \n",
    "Схожості: зберігання кількох елементів, однакові індекси\n",
    "Відмінності: кортежі - незмінювані, списки - змінювані, списки [], кортежі(), кортежі щвидші за списки."
   ]
  },
  {
   "cell_type": "markdown",
   "metadata": {
    "id": "m0xrwFijAmDD"
   },
   "source": [
    "16. Створіть кортеж з 11ти елементів чисел з рухомою комою та отримайте кожен парний за індексом елемент в зворотньому порядку. Наприклад, маючи (1.2, 2.3, 3.3, 4.3, 5.3, 6.3, 7.3, 8.3, 9.3, 0.3), отримати (0.3, 8.3, 6.3, 4.3, 2.3). Результат збережіть в нову змінну та виведіть на екран."
   ]
  },
  {
   "cell_type": "code",
   "execution_count": 21,
   "metadata": {
    "id": "p-5DAH6XfAGA"
   },
   "outputs": [
    {
     "name": "stdout",
     "output_type": "stream",
     "text": [
      "(10.3, 9.3, 7.3, 5.3, 3.3, 1.2)\n"
     ]
    }
   ],
   "source": [
    "my_tuple = (1.2, 2.3, 3.3, 4.3, 5.3, 6.3, 7.3, 8.3, 9.3, 0.3, 10.3)\n",
    "result = my_tuple[::-2]\n",
    "print(result)\n"
   ]
  },
  {
   "cell_type": "markdown",
   "metadata": {
    "id": "rW_I9dt3x6cW"
   },
   "source": [
    "# VI. Множини (Set)."
   ]
  },
  {
   "cell_type": "markdown",
   "metadata": {
    "id": "zNjRLHLw1Bgg"
   },
   "source": [
    "17. Створити множину без елементів. Після цого за допомогою методу додайте кілька різних елементів до множини. Чи множини є змінним типом даних?"
   ]
  },
  {
   "cell_type": "code",
   "execution_count": null,
   "metadata": {
    "id": "KOv7zc2Kfo4N"
   },
   "outputs": [],
   "source": [
    "set = set()\n",
    "\n",
    "set.add(1)\n",
    "set.add(2)\n",
    "set.add(3)\n",
    "\n",
    "print(set)\n"
   ]
  },
  {
   "cell_type": "markdown",
   "metadata": {
    "id": "vxS6dVYiftZQ"
   },
   "source": [
    "Так, множини є змінним типом даних. Ми можемо як і видаляти, так і створювати елементи після їх створення. Але множини не зберігають порядок елементів і не можна додавати дублікати."
   ]
  },
  {
   "cell_type": "markdown",
   "metadata": {
    "id": "gHpT0Zw_1HEF"
   },
   "source": [
    "18. Створити множину, маючи список my_list = [1, 1, 2, 67, 67, 8, 9]. Пояснити, чому \"зникли\" деякі елементи."
   ]
  },
  {
   "cell_type": "code",
   "execution_count": 22,
   "metadata": {
    "id": "qCN4uvJ_fxmu"
   },
   "outputs": [
    {
     "name": "stdout",
     "output_type": "stream",
     "text": [
      "{1, 2, 67, 8, 9}\n"
     ]
    }
   ],
   "source": [
    "list = [1, 1, 2, 67, 67, 8, 9]\n",
    "set = set(list)\n",
    "\n",
    "print(set)\n"
   ]
  },
  {
   "cell_type": "markdown",
   "metadata": {
    "id": "tFNc1e20fyny"
   },
   "source": [
    "Множина автоматично видаляє дублікати. Кожен елемент у множині має бути унікальним, тому всі повторювані значення зникають. Множина - це колекція тільки унікальних елементів (без дублікатів)"
   ]
  },
  {
   "cell_type": "markdown",
   "metadata": {
    "id": "SRMkGizS1UwY"
   },
   "source": [
    "19. Створіть дві множини. Продемонстуйте над ними операції: обʼєднання, різниці, пересічі та симетричної різниці. Використовуйте методи, що не змінюють множини, а створюють нові."
   ]
  },
  {
   "cell_type": "code",
   "execution_count": 25,
   "metadata": {
    "id": "h0T-VuDnf3Ri"
   },
   "outputs": [
    {
     "name": "stdout",
     "output_type": "stream",
     "text": [
      "union: {1, 2, 3, 4, 5, 6, 7, 8}\n",
      "difference: {1, 2, 3}\n",
      "intersection: {4, 5}\n",
      "symmetric difference: {1, 2, 3, 6, 7, 8}\n"
     ]
    }
   ],
   "source": [
    "set1 = {1, 2, 3, 4, 5}\n",
    "set2 = {4, 5, 6, 7, 8}\n",
    "\n",
    "# union\n",
    "union_set = set1.union(set2)\n",
    "print(\"union:\", union_set)\n",
    "\n",
    "# difference\n",
    "difference_set = set1.difference(set2)\n",
    "print(\"difference:\", difference_set)\n",
    "\n",
    "# intersection\n",
    "intersection_set = set1.intersection(set2)\n",
    "print(\"intersection:\", intersection_set)\n",
    "\n",
    "# symmetric difference\n",
    "symmetric_difference_set = set1.symmetric_difference(set2)\n",
    "print(\"symmetric difference:\", symmetric_difference_set)\n"
   ]
  },
  {
   "cell_type": "markdown",
   "metadata": {
    "id": "kWc8gkzTx7Ea"
   },
   "source": [
    "# VII. Словники (Dictionary)."
   ]
  },
  {
   "cell_type": "markdown",
   "metadata": {
    "id": "i5FLwj-B2ybQ"
   },
   "source": [
    "20. Створіть пустий словник. До нього додайте чотири пари елементів такі, щоб їхні ключі були різних типів. Чи може список бути ключем? Чому?"
   ]
  },
  {
   "cell_type": "code",
   "execution_count": 27,
   "metadata": {
    "id": "hxgv3BzrgLAV"
   },
   "outputs": [
    {
     "name": "stdout",
     "output_type": "stream",
     "text": [
      "{'name': 'Alice', 42: 'Answer to life', (1, 2): 'Tuple key', 3.14: 'Pi'}\n"
     ]
    }
   ],
   "source": [
    "dict = {}\n",
    "\n",
    "dict[\"name\"] = \"Alice\"         \n",
    "dict[42] = \"Answer to life\"    \n",
    "dict[(1, 2)] = \"Tuple key\"     \n",
    "dict[3.14] = \"Pi\"              \n",
    "\n",
    "print(dict)\n"
   ]
  },
  {
   "cell_type": "markdown",
   "metadata": {
    "id": "zwa7UVN-gR3m"
   },
   "source": [
    "Список не може бути ключем. Ключі в словниках мають бути незмінними об'єктами. Списки є змінними, тому вони не можуть бути використані як ключі. "
   ]
  },
  {
   "cell_type": "markdown",
   "metadata": {
    "id": "WM_pMlJsgoNf"
   },
   "source": [
    "21. Створіть словник, де значенням в одній з пар теж буде словник, який теж має вкладений словник. Виведіть на екран значення, що міститься в словнику, що знаходиться на найнижчому рівні ієрархії вкладеності (найбільш внутрішній)."
   ]
  },
  {
   "cell_type": "code",
   "execution_count": 28,
   "metadata": {
    "id": "60dlP7IHhAy4"
   },
   "outputs": [
    {
     "name": "stdout",
     "output_type": "stream",
     "text": [
      "This is the deepest value\n"
     ]
    }
   ],
   "source": [
    "dict = {\n",
    "    \"key1\": {\n",
    "        \"key2\": {\n",
    "            \"key3\": \"This is the deepest value\"\n",
    "        }\n",
    "    },\n",
    "    \"key4\": \"Some other value\"\n",
    "}\n",
    "\n",
    "deepest_value = dict[\"key1\"][\"key2\"][\"key3\"]\n",
    "\n",
    "print(deepest_value)\n"
   ]
  },
  {
   "cell_type": "markdown",
   "metadata": {
    "id": "xOZP0hkx6cCr"
   },
   "source": [
    "# Вітаю! Ви велика(ий) молодець, що впоралась(вся). Похваліть себе та побалуйте чимось приємним. Я Вами пишаюся."
   ]
  }
 ],
 "metadata": {
  "colab": {
   "provenance": []
  },
  "kernelspec": {
   "display_name": "Python 3",
   "name": "python3"
  },
  "language_info": {
   "codemirror_mode": {
    "name": "ipython",
    "version": 3
   },
   "file_extension": ".py",
   "mimetype": "text/x-python",
   "name": "python",
   "nbconvert_exporter": "python",
   "pygments_lexer": "ipython3",
   "version": "3.13.2"
  }
 },
 "nbformat": 4,
 "nbformat_minor": 0
}
