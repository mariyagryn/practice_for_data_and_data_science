{
 "cells": [
  {
   "cell_type": "markdown",
   "metadata": {
    "id": "5qV_sehzFCTp"
   },
   "source": [
    "# I. OOP"
   ]
  },
  {
   "cell_type": "markdown",
   "metadata": {
    "id": "tx_U_hOALyfg"
   },
   "source": [
    "1. (6б). Створіть клас Building, додайте три атрибути, один з яких має значення за замовчуванням та два методи на свій розсуд."
   ]
  },
  {
   "cell_type": "code",
   "execution_count": 4,
   "metadata": {
    "id": "-Vf895KaL88N"
   },
   "outputs": [],
   "source": [
    "class Building:\n",
    "    def __init__(self, address, floors, material=\"concrete\"):\n",
    "        self.address = address\n",
    "        self.floors = floors\n",
    "        self.material = material\n",
    "\n",
    "    def describe(self):\n",
    "        print(f\"This building is located at {self.address}, has {self.floors} floors and is made of {self.material}.\")\n",
    "\n",
    "    def is_high_rise(self):\n",
    "        return self.floors >= 10\n"
   ]
  },
  {
   "cell_type": "markdown",
   "metadata": {
    "id": "X_UlOMB0L93w"
   },
   "source": [
    "2. (2б). Створіть два обʼєкти цього класу, де один з обʼєктів створюється із дефолтним значенням атрибуту. На одному обʼєкті отримайте значення його атрибуту, а на іншому викличте один з його методів."
   ]
  },
  {
   "cell_type": "code",
   "execution_count": 6,
   "metadata": {
    "id": "7gBu0ESOMCpG"
   },
   "outputs": [
    {
     "name": "stdout",
     "output_type": "stream",
     "text": [
      "Building 1 material: brick\n",
      "This building is located at Hryhoriya Skovorody St, 2, has 15 floors and is made of concrete.\n"
     ]
    }
   ],
   "source": [
    "building1 = Building(\"Hryhoriya Skovorody St, 10\", 8, \"brick\")\n",
    "building2 = Building(\"Hryhoriya Skovorody St, 2\", 15) \n",
    "\n",
    "print(\"Building 1 material:\", building1.material)\n",
    "\n",
    "building2.describe()\n"
   ]
  },
  {
   "cell_type": "markdown",
   "metadata": {
    "id": "HoqSCZt1MHn5"
   },
   "source": [
    "3. (5б). Створіть клас, де атрибути мають різні рівні доступу. Спробуйте отримати їхні значення та опишіть результати."
   ]
  },
  {
   "cell_type": "code",
   "execution_count": 9,
   "metadata": {
    "id": "r9b3vJxBMSPV"
   },
   "outputs": [
    {
     "name": "stdout",
     "output_type": "stream",
     "text": [
      "Name (public): Mariia\n",
      "Salary (protected): 5000\n",
      "Cannot access private attribute directly\n",
      "Password (via name mangling): qwerty123\n"
     ]
    }
   ],
   "source": [
    "class Employee:\n",
    "    def __init__(self, name, salary, password):\n",
    "        self.name = name              \n",
    "        self._salary = salary        \n",
    "        self.__password = password   \n",
    "\n",
    "# creating an object\n",
    "e1 = Employee(\"Mariia\", 5000, \"qwerty123\")\n",
    "\n",
    "# accessing attributes\n",
    "print(\"Name (public):\", e1.name)           \n",
    "print(\"Salary (protected):\", e1._salary)   \n",
    "try:\n",
    "    print(\"Password (private):\", e1.__password) \n",
    "except AttributeError:\n",
    "    print(\"Cannot access private attribute directly\")\n",
    "    \n",
    "print(\"Password (via name mangling):\", e1._Employee__password)\n"
   ]
  },
  {
   "cell_type": "markdown",
   "metadata": {
    "id": "5op2m2vgMSkZ"
   },
   "source": [
    "4. (7б). Як ви розумієте термін self? Для чого використовується метод __init __?"
   ]
  },
  {
   "cell_type": "markdown",
   "metadata": {
    "id": "DyiPqNRvMasx"
   },
   "source": [
    "self — це посилання на поточний об'єкт класу. Його використовують, щоб звертатися до змінних (атрибутів) і методів цього об'єкта всередині самого класу. Якщо написати self.attribute, це означає, що ця змінна належить конкретному об'єкту.\n",
    "\n",
    "__init__ — це спеціальний метод, який називається конструктором. Він автоматично викликається, коли створюється новий об'єкт класу. Через нього можна задати початкові значення для атрибутів об'єкта."
   ]
  },
  {
   "cell_type": "markdown",
   "metadata": {
    "id": "-6X8EGfjMd2y"
   },
   "source": [
    "5. (9б). Створіть клас 3D-фігура без атрибутів, з методом get_volume для отримання об'єму фігури, що повертає 0 та __add __, який приймає self та other в якості аргументів, а повертає суму об'ємів 3d-фігур self та other."
   ]
  },
  {
   "cell_type": "code",
   "execution_count": 10,
   "metadata": {
    "id": "4rvO_wYUMaEr"
   },
   "outputs": [],
   "source": [
    "class Shape3D:\n",
    "    def get_volume(self):\n",
    "        return 0\n",
    "\n",
    "    def __add__(self, other):\n",
    "        return self.get_volume() + other.get_volume()"
   ]
  },
  {
   "cell_type": "markdown",
   "metadata": {
    "id": "SFcKnnv5Mo_z"
   },
   "source": [
    "6. (11б). Створіть 2 дочірніх класи від 3d-фігура: Циліндр та Куб, які мають атрибути, необхідні для розрахунку об'єму. Визначте метод get_volume в кожному з них так, щоби вони розраховували об'єм у залежності від формули для кожного типу фігури. Створіть обʼєкт класу Циліндр та обʼєкт класу Куб. Виконайте операцію суми за допомогою оператора + між ними, аби знайти сумарний об'єм."
   ]
  },
  {
   "cell_type": "code",
   "execution_count": 14,
   "metadata": {
    "id": "H3GVNr69Muf3"
   },
   "outputs": [
    {
     "name": "stdout",
     "output_type": "stream",
     "text": [
      "Cylinder volume: 565.4866776461628\n",
      "Cube volume: 64\n",
      "Total volume: 629.4866776461628\n"
     ]
    }
   ],
   "source": [
    "import math\n",
    "\n",
    "class Shape3D:\n",
    "    def get_volume(self):\n",
    "        return 0\n",
    "\n",
    "    def __add__(self, other):\n",
    "        return self.get_volume() + other.get_volume()\n",
    "    \n",
    "class Cylinder(Shape3D):\n",
    "    def __init__(self, radius, height):\n",
    "        self.radius = radius\n",
    "        self.height = height\n",
    "\n",
    "    def get_volume(self):\n",
    "        return math.pi * self.radius ** 2 * self.height\n",
    "\n",
    "class Cube(Shape3D):\n",
    "    def __init__(self, side):\n",
    "        self.side = side\n",
    "\n",
    "    def get_volume(self):\n",
    "        return self.side ** 3\n",
    "\n",
    "cylinder = Cylinder(6, 5)  \n",
    "cube = Cube(4)            \n",
    "\n",
    "print(\"Cylinder volume:\", cylinder.get_volume())\n",
    "print(\"Cube volume:\", cube.get_volume())\n",
    "\n",
    "total_volume = cylinder + cube\n",
    "print(\"Total volume:\", total_volume)\n"
   ]
  },
  {
   "cell_type": "markdown",
   "metadata": {
    "id": "HCvR206YMvLK"
   },
   "source": [
    "7. (3б). Продемонструйте різницю між isinstance та issubclass."
   ]
  },
  {
   "cell_type": "code",
   "execution_count": 17,
   "metadata": {
    "id": "L_V1bBvDM0GN"
   },
   "outputs": [
    {
     "name": "stdout",
     "output_type": "stream",
     "text": [
      "True\n",
      "True\n",
      "True\n",
      "False\n"
     ]
    }
   ],
   "source": [
    "# isinstance(object, class) — перевіряє, чи об’єкт є екземпляром вказаного класу або його нащадка\n",
    "# issubclass(subclass, class) — перевіряє, чи є один клас підкласом іншого\n",
    "\n",
    "class Shape3D:\n",
    "    pass\n",
    "\n",
    "class Cube(Shape3D):\n",
    "    pass\n",
    "\n",
    "cube = Cube()\n",
    "\n",
    "# isinstance checks an object\n",
    "print(isinstance(cube, Cube))     \n",
    "print(isinstance(cube, Shape3D))  \n",
    "\n",
    "# issubclass checks class relationships\n",
    "print(issubclass(Cube, Shape3D))  \n",
    "print(issubclass(Shape3D, Cube))  \n"
   ]
  },
  {
   "cell_type": "markdown",
   "metadata": {
    "id": "jjsaBZ-iM0Qq"
   },
   "source": [
    "8. (13б). Створіть клас EWallet з приватними атрибутами balance та id. Реалізуйте методи поповнення та зняття коштів, забезпечивши належну інкапсуляцію. Підказка: використовуйте декоратори property та setter."
   ]
  },
  {
   "cell_type": "code",
   "execution_count": 19,
   "metadata": {
    "id": "xCvZ7lh8M7YA"
   },
   "outputs": [
    {
     "name": "stdout",
     "output_type": "stream",
     "text": [
      "Wallet ID: abc123\n",
      "Initial balance: 0\n",
      "Deposited 100. New balance: 100\n",
      "Withdrew 40. New balance: 60\n",
      "Invalid or insufficient funds.\n"
     ]
    }
   ],
   "source": [
    "class EWallet:\n",
    "    def __init__(self, wallet_id, balance=0):\n",
    "        self.__id = wallet_id      \n",
    "        self.__balance = balance    \n",
    "\n",
    "    @property\n",
    "    def balance(self):\n",
    "        return self.__balance\n",
    "\n",
    "    @property\n",
    "    def id(self):\n",
    "        return self.__id\n",
    "\n",
    "    def deposit(self, amount):\n",
    "        if amount > 0:\n",
    "            self.__balance += amount\n",
    "            print(f\"Deposited {amount}. New balance: {self.__balance}\")\n",
    "        else:\n",
    "            print(\"Invalid deposit amount.\")\n",
    "\n",
    "    def withdraw(self, amount):\n",
    "        if 0 < amount <= self.__balance:\n",
    "            self.__balance -= amount\n",
    "            print(f\"Withdrew {amount}. New balance: {self.__balance}\")\n",
    "        else:\n",
    "            print(\"Invalid or insufficient funds.\")\n",
    "\n",
    "wallet = EWallet(\"abc123\")\n",
    "\n",
    "\n",
    "print(\"Wallet ID:\", wallet.id)\n",
    "print(\"Initial balance:\", wallet.balance)\n",
    "\n",
    "wallet.deposit(100)\n",
    "wallet.withdraw(40)\n",
    "wallet.withdraw(100)  \n"
   ]
  },
  {
   "cell_type": "markdown",
   "metadata": {
    "id": "tIzL2SJTM8ft"
   },
   "source": [
    "9. (11б). Створіть клас ShoppingCart, який містить список об'єктів типу Item. Реалізуйте методи для додавання айтемів, їх видалення та відображення списку айтемів."
   ]
  },
  {
   "cell_type": "code",
   "execution_count": 22,
   "metadata": {
    "id": "HWxfJKLtNAUZ"
   },
   "outputs": [
    {
     "name": "stdout",
     "output_type": "stream",
     "text": [
      "Added Apple to cart.\n",
      "Added Bread to cart.\n",
      "Added Milk to cart.\n",
      "Shopping Cart:\n",
      "- Apple - $1.5\n",
      "- Bread - $2.0\n",
      "- Milk - $2.5\n",
      "Removed Bread from cart.\n",
      "Shopping Cart:\n",
      "- Apple - $1.5\n",
      "- Milk - $2.5\n"
     ]
    }
   ],
   "source": [
    "class Item:\n",
    "    def __init__(self, name, price):\n",
    "        self.name = name\n",
    "        self.price = price\n",
    "\n",
    "    def __str__(self):\n",
    "        return f\"{self.name} - ${self.price}\"\n",
    "    \n",
    "class ShoppingCart:\n",
    "    def __init__(self):\n",
    "        self.items = []  \n",
    "\n",
    "    def add_item(self, item):\n",
    "        self.items.append(item)\n",
    "        print(f\"Added {item.name} to cart.\")\n",
    "\n",
    "    def remove_item(self, item_name):\n",
    "        for item in self.items:\n",
    "            if item.name == item_name:\n",
    "                self.items.remove(item)\n",
    "                print(f\"Removed {item_name} from cart.\")\n",
    "                return\n",
    "        print(f\"Item '{item_name}' not found in cart.\")\n",
    "\n",
    "    def show_items(self):\n",
    "        if not self.items:\n",
    "            print(\"Cart is empty.\")\n",
    "        else:\n",
    "            print(\"Shopping Cart:\")\n",
    "            for item in self.items:\n",
    "                print(\"-\", item)\n",
    "\n",
    "item1 = Item(\"Apple\", 1.5)\n",
    "item2 = Item(\"Bread\", 2.0)\n",
    "item3 = Item(\"Milk\", 2.5)\n",
    "\n",
    "cart = ShoppingCart()\n",
    "cart.add_item(item1)\n",
    "cart.add_item(item2)\n",
    "cart.add_item(item3)\n",
    "\n",
    "cart.show_items()\n",
    "cart.remove_item(\"Bread\")\n",
    "cart.show_items()\n",
    "\n"
   ]
  },
  {
   "cell_type": "markdown",
   "metadata": {
    "id": "lmV8pAwwNIqu"
   },
   "source": [
    "10. (13б). Створіть клас Vehicle з атрибутами brand (manufacturer) та production_age. Створіть ще один клас Engine з такими атрибутами, як type (ex. petrol) та size (volume, litres). Створіть клас Car, який успадковує обидва класи Vehicle та Engine. Продемонструйте використання множинної спадковості, створивши обʼєкт класу Car та отримавши mro для цього класу."
   ]
  },
  {
   "cell_type": "code",
   "execution_count": 23,
   "metadata": {
    "id": "R49grKlWNPeN"
   },
   "outputs": [
    {
     "name": "stdout",
     "output_type": "stream",
     "text": [
      "Brand: Toyota\n",
      "Production Age: 3\n",
      "Engine Type: petrol\n",
      "Engine Size: 1.8\n",
      "MRO: ['Car', 'Vehicle', 'Engine', 'object']\n"
     ]
    }
   ],
   "source": [
    "class Vehicle:\n",
    "    def __init__(self, brand, production_age):\n",
    "        self.brand = brand\n",
    "        self.production_age = production_age\n",
    "\n",
    "class Engine:\n",
    "    def __init__(self, engine_type, size):\n",
    "        self.engine_type = engine_type\n",
    "        self.size = size\n",
    "\n",
    "class Car(Vehicle, Engine):\n",
    "    def __init__(self, brand, production_age, engine_type, size):\n",
    "        Vehicle.__init__(self, brand, production_age)\n",
    "        Engine.__init__(self, engine_type, size)\n",
    "\n",
    "my_car = Car(\"Toyota\", 3, \"petrol\", 1.8)\n",
    "\n",
    "print(\"Brand:\", my_car.brand)\n",
    "print(\"Production Age:\", my_car.production_age)\n",
    "print(\"Engine Type:\", my_car.engine_type)\n",
    "print(\"Engine Size:\", my_car.size)\n",
    "\n",
    "print(\"MRO:\", [cls.__name__ for cls in Car.__mro__])\n"
   ]
  },
  {
   "cell_type": "markdown",
   "metadata": {
    "id": "dIJyUiNBFG8G"
   },
   "source": [
    "# II. Iterator"
   ]
  },
  {
   "cell_type": "markdown",
   "metadata": {
    "id": "13vsm0NyKIzL"
   },
   "source": [
    "11. (4б). Визначте рядок(str) з 4ма різними за значенням символами. Створіть ітератор на основі цього рядка. Викличте 5 разів функцію next на ітераторі, 4ри перших з них огорніть у ф-цію print()."
   ]
  },
  {
   "cell_type": "code",
   "execution_count": 24,
   "metadata": {
    "id": "81ntabAkKuz-"
   },
   "outputs": [
    {
     "name": "stdout",
     "output_type": "stream",
     "text": [
      "A\n",
      "B\n",
      "C\n",
      "D\n"
     ]
    },
    {
     "ename": "StopIteration",
     "evalue": "",
     "output_type": "error",
     "traceback": [
      "\u001b[0;31m---------------------------------------------------------------------------\u001b[0m",
      "\u001b[0;31mStopIteration\u001b[0m                             Traceback (most recent call last)",
      "Cell \u001b[0;32mIn[24], line 9\u001b[0m\n\u001b[1;32m      6\u001b[0m \u001b[38;5;28mprint\u001b[39m(\u001b[38;5;28mnext\u001b[39m(it))      \n\u001b[1;32m      7\u001b[0m \u001b[38;5;28mprint\u001b[39m(\u001b[38;5;28mnext\u001b[39m(it))       \n\u001b[0;32m----> 9\u001b[0m \u001b[38;5;28;43mnext\u001b[39;49m\u001b[43m(\u001b[49m\u001b[43mit\u001b[49m\u001b[43m)\u001b[49m             \n",
      "\u001b[0;31mStopIteration\u001b[0m: "
     ]
    }
   ],
   "source": [
    "s = \"ABCD\"            \n",
    "it = iter(s)         \n",
    "\n",
    "print(next(it))      \n",
    "print(next(it))      \n",
    "print(next(it))      \n",
    "print(next(it))       \n",
    "\n",
    "next(it)             "
   ]
  },
  {
   "cell_type": "markdown",
   "metadata": {
    "id": "aekWHGXOLRsO"
   },
   "source": [
    "А що якщо викликати цю ж функцію на рядку?"
   ]
  },
  {
   "cell_type": "code",
   "execution_count": 25,
   "metadata": {
    "id": "mxATGsErLV1i"
   },
   "outputs": [
    {
     "ename": "TypeError",
     "evalue": "'str' object is not an iterator",
     "output_type": "error",
     "traceback": [
      "\u001b[0;31m---------------------------------------------------------------------------\u001b[0m",
      "\u001b[0;31mTypeError\u001b[0m                                 Traceback (most recent call last)",
      "Cell \u001b[0;32mIn[25], line 2\u001b[0m\n\u001b[1;32m      1\u001b[0m s \u001b[38;5;241m=\u001b[39m \u001b[38;5;124m\"\u001b[39m\u001b[38;5;124mABCD\u001b[39m\u001b[38;5;124m\"\u001b[39m\n\u001b[0;32m----> 2\u001b[0m \u001b[38;5;28;43mnext\u001b[39;49m\u001b[43m(\u001b[49m\u001b[43ms\u001b[49m\u001b[43m)\u001b[49m  \n",
      "\u001b[0;31mTypeError\u001b[0m: 'str' object is not an iterator"
     ]
    }
   ],
   "source": [
    "s = \"ABCD\"\n",
    "next(s)  \n"
   ]
  },
  {
   "cell_type": "markdown",
   "metadata": {
    "id": "XwtMEopwJ4pH"
   },
   "source": [
    " 12. (5б). Опишіть своїми словами в одному реченні, як ви розумієте різницю між ітерабельними обʼєктами та ітераторами (можна на прикладі)."
   ]
  },
  {
   "cell_type": "markdown",
   "metadata": {
    "id": "-sHrODc3KFn8"
   },
   "source": [
    "Ітерабельний обʼєкт — це той, по якому можна пройтися в циклі (наприклад, рядок або список), а ітератор — це обʼєкт, який повертає елементи по одному за допомогою next(), наприклад iter(\"abc\")"
   ]
  },
  {
   "cell_type": "markdown",
   "metadata": {
    "id": "E9qJWmNbK8Gl"
   },
   "source": [
    "13. (11б). Створіть клас, що має визначений Iterator Protocol та при кожному виклику next повертає назву дня тижня, поки вони не вичерпаються. Зверніть увагу, що порядок має значення."
   ]
  },
  {
   "cell_type": "code",
   "execution_count": 27,
   "metadata": {
    "id": "cqx-g_RsLo6I"
   },
   "outputs": [
    {
     "name": "stdout",
     "output_type": "stream",
     "text": [
      "Monday\n",
      "Tuesday\n",
      "Wednesday\n",
      "Thursday\n",
      "Friday\n",
      "Saturday\n",
      "Sunday\n"
     ]
    }
   ],
   "source": [
    "class WeekDays:\n",
    "    def __init__(self):\n",
    "        self.days = [\"Monday\", \"Tuesday\", \"Wednesday\", \"Thursday\", \"Friday\", \"Saturday\", \"Sunday\"]\n",
    "        self.index = 0\n",
    "\n",
    "    def __iter__(self):\n",
    "        return self\n",
    "\n",
    "    def __next__(self):\n",
    "        if self.index >= len(self.days):\n",
    "            raise StopIteration\n",
    "        day = self.days[self.index]\n",
    "        self.index += 1\n",
    "        return day\n",
    "\n",
    "week = WeekDays()\n",
    "\n",
    "for day in week:\n",
    "    print(day)\n"
   ]
  },
  {
   "cell_type": "markdown",
   "metadata": {
    "id": "Z3E3S_s1Fv7-"
   },
   "source": [
    "# Вітаю! Ви велика(ий) молодець, що впоралась(вся). Похваліть себе та побалуйте чимось приємним. Я Вами пишаюся."
   ]
  }
 ],
 "metadata": {
  "colab": {
   "provenance": []
  },
  "kernelspec": {
   "display_name": "Python 3",
   "name": "python3"
  },
  "language_info": {
   "codemirror_mode": {
    "name": "ipython",
    "version": 3
   },
   "file_extension": ".py",
   "mimetype": "text/x-python",
   "name": "python",
   "nbconvert_exporter": "python",
   "pygments_lexer": "ipython3",
   "version": "3.13.2"
  }
 },
 "nbformat": 4,
 "nbformat_minor": 0
}
